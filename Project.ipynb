{
  "nbformat": 4,
  "nbformat_minor": 0,
  "metadata": {
    "colab": {
      "name": "Project.ipynb",
      "provenance": [],
      "collapsed_sections": [
        "Ffa21u-BtjFM",
        "ZMD5MO7bstul",
        "i6jR6yjifjbt"
      ],
      "toc_visible": true
    },
    "kernelspec": {
      "name": "python3",
      "display_name": "Python 3"
    },
    "accelerator": "GPU"
  },
  "cells": [
    {
      "cell_type": "markdown",
      "metadata": {
        "id": "78dGhMtdvq81"
      },
      "source": [
        "# Data scraping"
      ]
    },
    {
      "cell_type": "code",
      "metadata": {
        "colab": {
          "base_uri": "https://localhost:8080/"
        },
        "id": "bLlRx3wc3Qww",
        "outputId": "14f50af8-f78a-49cc-e6f3-4fb6121a4302"
      },
      "source": [
        "from google.colab import drive\n",
        "drive.mount('/content/drive')"
      ],
      "execution_count": null,
      "outputs": [
        {
          "output_type": "stream",
          "text": [
            "Mounted at /content/drive\n"
          ],
          "name": "stdout"
        }
      ]
    },
    {
      "cell_type": "code",
      "metadata": {
        "id": "jANQNZG8nUxR"
      },
      "source": [
        "import json\n",
        "\n",
        "subdir1 = \"CS4248 Project/ntuconfessions_data.json\"\n",
        "subdir2 = \"CS4248 Project/ntu.json\"\n",
        "\n",
        "def load_file(subdir):\n",
        "    path = f'/content/drive/MyDrive/{subdir}'\n",
        "    data = json.load(open(f'{path}', 'rb'))\n",
        "    return data\n",
        "    \n",
        "data1 = load_file(subdir1)\n",
        "data2 = load_file(subdir2)\n"
      ],
      "execution_count": null,
      "outputs": []
    },
    {
      "cell_type": "code",
      "metadata": {
        "id": "h6YDQu2DnyLj",
        "colab": {
          "base_uri": "https://localhost:8080/"
        },
        "outputId": "00fc0009-6638-4358-e89c-ecf882a0600d"
      },
      "source": [
        "import pandas as pd\n",
        "\n",
        "def process_data(data):\n",
        "    posts = data[0][\"posts\"]\n",
        "    visited_urls = set()\n",
        "    post_contents = []\n",
        "    post_comments = []\n",
        "    for post in posts:\n",
        "        if post[\"postUrl\"] in visited_urls:\n",
        "            continue\n",
        "            \n",
        "        visited_urls.add(post[\"postUrl\"])\n",
        "        post_text = post[\"postText\"]\n",
        "        # remove hyperlink at end of post\n",
        "        # truncated_text = post_text[:-53] # for nus\n",
        "        truncated_text = post_text[:-47] # for ntu\n",
        "        # truncated_text = post_text\n",
        "        post_contents.append(truncated_text)\n",
        "\n",
        "        for comment in post[\"postComments\"][\"comments\"]:\n",
        "            comment_text = comment[\"text\"]\n",
        "            post_comments.append(comment_text)\n",
        "    return post_contents, post_comments\n",
        "\n",
        "x1, x2 = process_data(data1)\n",
        "x3, x4 = process_data(data2)\n",
        "print(len(x3), len(x4))"
      ],
      "execution_count": null,
      "outputs": [
        {
          "output_type": "stream",
          "text": [
            "652 3039\n"
          ],
          "name": "stdout"
        }
      ]
    },
    {
      "cell_type": "code",
      "metadata": {
        "id": "k6OkZKim3iN0",
        "colab": {
          "base_uri": "https://localhost:8080/"
        },
        "outputId": "ac9e83ad-95c4-4b4d-ec85-ce6b839aeb49"
      },
      "source": [
        "post_contents = x1 + x2\n",
        "post_comments = x3 + x4\n",
        "print(len(post_contents), len(post_comments))\n",
        "\n",
        "df1 = pd.DataFrame (post_contents,columns=['post_contents'])\n",
        "df2 = pd.DataFrame (post_comments,columns=['post_comments'])\n",
        "\n",
        "df1.to_csv(r'ntu_posts.csv', index = False, header=True)\n",
        "df2.to_csv(r'ntu_comments.csv', index = False, header=True)"
      ],
      "execution_count": null,
      "outputs": [
        {
          "output_type": "stream",
          "text": [
            "482 3691\n"
          ],
          "name": "stdout"
        }
      ]
    },
    {
      "cell_type": "markdown",
      "metadata": {
        "id": "O8AYewsFte9m"
      },
      "source": [
        "# Load pretrained word embedding"
      ]
    },
    {
      "cell_type": "code",
      "metadata": {
        "colab": {
          "base_uri": "https://localhost:8080/"
        },
        "id": "2h8mHA5ItdNH",
        "outputId": "001092c2-0882-4f87-86b6-2ff1101f8a69"
      },
      "source": [
        "from google.colab import drive\n",
        "drive.mount('/content/drive')"
      ],
      "execution_count": null,
      "outputs": [
        {
          "output_type": "stream",
          "text": [
            "Mounted at /content/drive\n"
          ],
          "name": "stdout"
        }
      ]
    },
    {
      "cell_type": "code",
      "metadata": {
        "id": "MW66B2Pdropx"
      },
      "source": [
        "import pickle\n",
        "import json\n",
        "\n",
        "# Define your own subdirectory \n",
        "subdir = \"CS4248 Project/Data\"\n",
        "path = f'/content/drive/MyDrive/{subdir}'\n",
        "\n",
        "twitter_embedding_name = \"embeddings_dict.pkl\"\n",
        "wikipedia_embedding_name = \"embeddings_dict_wikipedia_100d.pkl\"\n",
        "finetune_embedding_name = \"sms_glove.pkl\"\n",
        "\n",
        "twitter_embeddings_dict = pickle.load(open(f'{path}{twitter_embedding_name}', 'rb'))\n",
        "wikipedia_embeddings_dict = pickle.load(open(f'{path}{wikipedia_embedding_name}', 'rb'))\n",
        "\n",
        "# update embedding\n",
        "# new_embeddings_dict = pickle.load(open(f'{path}{finetune_embedding_name}', 'rb'))\n",
        "# embeddings_dict.update(new_embeddings_dict)\n"
      ],
      "execution_count": null,
      "outputs": []
    },
    {
      "cell_type": "markdown",
      "metadata": {
        "id": "Ffa21u-BtjFM"
      },
      "source": [
        "# Define LSTM"
      ]
    },
    {
      "cell_type": "code",
      "metadata": {
        "id": "vb6dD99CWkGX"
      },
      "source": [
        "import torch.nn as nn\n",
        "import torch\n",
        "import textwrap\n",
        "\n",
        "if torch.cuda.is_available():\n",
        "    device = torch.device(\"cuda\")\n",
        "else:\n",
        "    device = torch.device(\"cpu\")\n",
        "\n",
        "def get_weights(target_vocab, embeddings_dict, embedding_dim=100):\n",
        "    matrix_len = len(target_vocab)\n",
        "    weights_matrix = np.zeros((matrix_len, embedding_dim))\n",
        "    words_found = 0\n",
        "    oov_words = []\n",
        "\n",
        "    for i, word in enumerate(target_vocab):\n",
        "        try: \n",
        "            weights_matrix[i] = embeddings_dict[word]\n",
        "            words_found += 1\n",
        "        except KeyError:\n",
        "            oov_words.append(word)\n",
        "            weights_matrix[i] = np.random.normal(scale=0.6, size=(embedding_dim, ))  \n",
        "\n",
        "    print(\"% of OOV words (not found in embedding): \", round(1.0 - words_found/matrix_len, 3) * 100)\n",
        "    print(\"50 OOV words: \", textwrap.fill(str(oov_words[:50]), width=100))\n",
        "    print(\"##############################################################\")\n",
        "\n",
        "    return torch.tensor(weights_matrix)\n",
        "\n",
        "def create_emb_layer(weights_matrix, trainable=False):\n",
        "    num_embeddings, embedding_dim = weights_matrix.shape\n",
        "    emb_layer = nn.Embedding(num_embeddings, embedding_dim)\n",
        "    emb_layer.load_state_dict({'weight': weights_matrix})\n",
        "    # set trainable for weights\n",
        "    emb_layer.weight.requires_grad = trainable\n",
        "      \n",
        "    return emb_layer, num_embeddings, embedding_dim  \n",
        "\n",
        "class SentimentNet(nn.Module):\n",
        "    def __init__(self, target_vocab, embeddings_dict, output_size, embedding_dim, hidden_dim, n_layers, drop_prob=0.5):\n",
        "        super(SentimentNet, self).__init__()\n",
        "        self.output_size = output_size\n",
        "        self.n_layers = n_layers\n",
        "        self.hidden_dim = hidden_dim\n",
        "\n",
        "        # Learn new word embedding\n",
        "        # vocab_size = len(target_vocab)\n",
        "        # self.embedding = nn.Embedding(vocab_size, embedding_dim)\n",
        "\n",
        "        # Use pretrained word embedding\n",
        "        weights_matrix = get_weights(target_vocab, embeddings_dict, embedding_dim)\n",
        "        self.embedding, num_embeddings, embedding_dim = create_emb_layer(weights_matrix, trainable=True)\n",
        "        \n",
        "        self.lstm = nn.LSTM(embedding_dim, hidden_dim, n_layers, dropout=drop_prob, batch_first=True)\n",
        "        self.dropout = nn.Dropout(drop_prob)\n",
        "        self.fc1 = nn.Linear(hidden_dim, 128)\n",
        "        self.fc2 = nn.Linear(128, output_size)\n",
        "        self.ReLU = nn.ReLU()\n",
        "        self.LeakyReLU = nn.LeakyReLU(negative_slope=0.01)\n",
        "        self.sigmoid = nn.Sigmoid()\n",
        "        \n",
        "    def forward(self, x, hidden):\n",
        "        self.lstm.flatten_parameters() \n",
        "        batch_size = x.size(0)\n",
        "        x = x.long()\n",
        "        embeds = self.embedding(x)\n",
        "        lstm_out, hidden = self.lstm(embeds, hidden)\n",
        "        lstm_out = lstm_out.contiguous().view(-1, self.hidden_dim)\n",
        "        \n",
        "        # out = self.dropout(lstm_out)\n",
        "        out = self.fc1(lstm_out)\n",
        "        out = self.ReLU(out)\n",
        "        out = self.fc2(out)\n",
        "        out = self.sigmoid(out)\n",
        "        \n",
        "        out = out.view(batch_size, -1)\n",
        "        out = out[:,-1]\n",
        "        return out, hidden\n",
        "    \n",
        "    def init_hidden(self, batch_size):\n",
        "        weight = next(self.parameters()).data\n",
        "        hidden = (weight.new(self.n_layers, batch_size, self.hidden_dim).zero_().to(device),\n",
        "                      weight.new(self.n_layers, batch_size, self.hidden_dim).zero_().to(device))\n",
        "        return hidden"
      ],
      "execution_count": null,
      "outputs": []
    },
    {
      "cell_type": "markdown",
      "metadata": {
        "id": "ZMD5MO7bstul"
      },
      "source": [
        "# Preprocessing"
      ]
    },
    {
      "cell_type": "code",
      "metadata": {
        "id": "B9irSayVjR6q"
      },
      "source": [
        "# Pad/truncate sentence to fixed length\n",
        "# https://arxiv.org/abs/1903.07288 pad zeros in front\n",
        "def pad_input(sentences, seq_len=100):\n",
        "    features = np.zeros((len(sentences), seq_len), dtype=int)\n",
        "    for i, tokens in enumerate(sentences):\n",
        "        if len(tokens) > seq_len:\n",
        "            features[i] = np.array(tokens)[:seq_len]\n",
        "        elif len(tokens) > 0:\n",
        "            features[i, -len(tokens):] = np.array(tokens)\n",
        "    return features\n",
        "\n",
        "def preprocess_input(X, y, seq_len=100, X_test_local=[], y_test_local=[]):\n",
        "    X_train, X_val, y_train, y_val = train_test_split(X, y, test_size=0.2, random_state=0)\n",
        "    X_test, X_val, y_test, y_val = train_test_split(X_val, y_val, test_size=0.5, random_state=0)\n",
        "\n",
        "    \n",
        "    if len(X_test_local) > 0:\n",
        "        X_test = X_test_local\n",
        "        y_test = y_test_local\n",
        "\n",
        "    print(len(X_test))\n",
        "    words = Counter() \n",
        "\n",
        "    for i, sentence in enumerate(X_train):\n",
        "        # The sentences will be stored as a list of words/tokens\n",
        "        X_train[i] = []\n",
        "        for word in nltk.word_tokenize(sentence):  # Tokenizing the words\n",
        "            words.update([word.lower()])  # Converting all the words to lowercase\n",
        "            X_train[i].append(word)\n",
        "    \n",
        "    words = {k:v for k,v in words.items() if v > 1}\n",
        "    words = sorted(words, key=words.get, reverse=True)\n",
        "    # Adding padding and unknown to our vocabulary so that they will be assigned an index\n",
        "    words = ['_PAD', '_UNKNOWN'] + words\n",
        "\n",
        "    # Dictionaries to store the word to index mappings and vice versa\n",
        "    word2idx = {o:i for i,o in enumerate(words)}\n",
        "    idx2word = {i:o for i,o in enumerate(words)}\n",
        "\n",
        "    for i, sentence in enumerate(X_train):\n",
        "        X_train[i] = [word2idx[word] if word in word2idx else 1 for word in sentence]\n",
        "\n",
        "    for i, sentence in enumerate(X_val):\n",
        "        X_val[i] = [word2idx[word.lower()] if word.lower() in word2idx else 1 for word in nltk.word_tokenize(sentence)]\n",
        "\n",
        "    for i, sentence in enumerate(X_test):\n",
        "        X_test[i] = [word2idx[word.lower()] if word.lower() in word2idx else 1 for word in nltk.word_tokenize(sentence)]\n",
        "\n",
        "    print(\"Training input statistics\")\n",
        "    print(\"Max tokens: \", np.max([len(x) for x in X_train]))\n",
        "    print(\"Min tokens: \", np.min([len(x) for x in X_train]))\n",
        "    print(\"Average tokens: \", np.mean([len(x) for x in X_train]))\n",
        "\n",
        "    train_sentences = pad_input(X_train, seq_len)\n",
        "    val_sentences = pad_input(X_val, seq_len)\n",
        "    test_sentences = pad_input(X_test, seq_len)\n",
        "\n",
        "    return train_sentences, val_sentences, test_sentences, y_train, y_val, y_test, words, idx2word"
      ],
      "execution_count": null,
      "outputs": []
    },
    {
      "cell_type": "markdown",
      "metadata": {
        "id": "i6jR6yjifjbt"
      },
      "source": [
        "# Data Visualization"
      ]
    },
    {
      "cell_type": "code",
      "metadata": {
        "colab": {
          "base_uri": "https://localhost:8080/",
          "height": 702
        },
        "id": "xzJddAwQfhSg",
        "outputId": "4482a206-797d-4663-de08-3ec72e95bfc7"
      },
      "source": [
        "import pandas as pd\n",
        "import numpy as np\n",
        "import nltk\n",
        "nltk.download('punkt')\n",
        "from nltk import word_tokenize  \n",
        "import matplotlib.pyplot as plt\n",
        "\n",
        "url = \"https://raw.githubusercontent.com/calvincxz/CS4248_Project/main/train2.csv\"\n",
        "train = pd.read_csv(url)\n",
        "X = np.array(train['comment_text'])\n",
        "y = np.array(train['toxic_label'])\n",
        "\n",
        "for i, sentence in enumerate(X):\n",
        "    X[i] = []\n",
        "    for word in nltk.word_tokenize(sentence): \n",
        "        X[i].append(word)\n",
        "\n",
        "x1 = [\"Toxic\", \"Non-toxic\"]\n",
        "y1 = [sum(y), len(y)-sum(y)]\n",
        "\n",
        "fig = plt.figure(figsize =(4,6))\n",
        "plt.bar(x1, y1, label=\"Blue Bar\", )\n",
        "plt.plot()\n",
        "\n",
        "plt.xlabel(\"Comment Type\")\n",
        "plt.ylabel(\"Number of Comments\")\n",
        "plt.title(\"Toxic/Non-toxic Distribution\")\n",
        "plt.legend()\n",
        "plt.show()\n",
        "\n",
        "n = [len(x) for x in X]\n",
        "m = [m for m in range(len(n))]\n",
        "\n",
        "plt.hist(n, bins=20, range=(0, 500))\n",
        "plt.title(\"Histogram\")\n",
        "plt.show()"
      ],
      "execution_count": null,
      "outputs": [
        {
          "output_type": "stream",
          "text": [
            "[nltk_data] Downloading package punkt to /root/nltk_data...\n",
            "[nltk_data]   Package punkt is already up-to-date!\n"
          ],
          "name": "stdout"
        },
        {
          "output_type": "display_data",
          "data": {
            "image/png": "[encoded data removed]",
            "text/plain": [
              "<Figure size 288x432 with 1 Axes>"
            ]
          },
          "metadata": {
            "tags": [],
            "needs_background": "light"
          }
        },
        {
          "output_type": "display_data",
          "data": {
            "image/png": "[encoded data removed]",
            "text/plain": [
              "<Figure size 432x288 with 1 Axes>"
            ]
          },
          "metadata": {
            "tags": [],
            "needs_background": "light"
          }
        }
      ]
    },
    {
      "cell_type": "markdown",
      "metadata": {
        "id": "_qs3MAd1szWS"
      },
      "source": [
        "# Main"
      ]
    },
    {
      "cell_type": "code",
      "metadata": {
        "id": "Pluu00U1PXCz",
        "colab": {
          "base_uri": "https://localhost:8080/"
        },
        "outputId": "6f848415-6725-4ba9-fcca-35a0c46ce38c"
      },
      "source": [
        "import pandas as pd\n",
        "import numpy as np\n",
        "import copy\n",
        "from sklearn.model_selection import train_test_split\n",
        "from sklearn.linear_model import LogisticRegression\n",
        "from scipy.sparse import csr_matrix\n",
        "from sklearn.metrics import f1_score, accuracy_score, recall_score, precision_score\n",
        "from sklearn.feature_extraction.text import TfidfVectorizer\n",
        "\n",
        "import torch\n",
        "from torch.utils.data import TensorDataset, DataLoader\n",
        "import torch.nn as nn\n",
        "\n",
        "import math\n",
        "from collections import Counter\n",
        "import nltk\n",
        "nltk.download('punkt')\n",
        "from nltk import word_tokenize  \n",
        "\n",
        "\n",
        "def train_and_evaluate_model(embeddings_dict, X_test_local=[], y_test_local=[]):\n",
        "    url = \"https://raw.githubusercontent.com/calvincxz/CS4248_Project/main/train2.csv\"\n",
        "    train = pd.read_csv(url)\n",
        "    X = np.array(train['comment_text'])\n",
        "    y = np.array(train['toxic_label'])\n",
        "\n",
        "    # reduce size for faster training\n",
        "    size = X.shape[0]\n",
        "    # size = 5000\n",
        "\n",
        "    X = X[:size]\n",
        "    y = y[:size]\n",
        "\n",
        "    train_sentences, val_sentences, test_sentences, \\\n",
        "    y_train, y_val, y_test, vocab, idx2word = preprocess_input(X, y, seq_len=200, X_test_local=X_test_local, y_test_local=y_test_local)\n",
        "\n",
        "    train_data = TensorDataset(torch.from_numpy(train_sentences), torch.from_numpy(y_train))\n",
        "    val_data = TensorDataset(torch.from_numpy(val_sentences), torch.from_numpy(y_val))\n",
        "    test_data = TensorDataset(torch.from_numpy(test_sentences), torch.from_numpy(y_test))\n",
        "\n",
        "    batch_size = 256\n",
        "    train_loader = DataLoader(train_data, shuffle=True, batch_size=batch_size, drop_last=True)\n",
        "    val_loader = DataLoader(val_data, shuffle=True, batch_size=batch_size, drop_last=True)\n",
        "    test_loader = DataLoader(test_data, shuffle=True, batch_size=batch_size, drop_last=True)\n",
        "\n",
        "    output_size = 1\n",
        "    embedding_dim = len(list(embeddings_dict.values())[0])\n",
        "    hidden_dim = 256\n",
        "    vocab_size = len(vocab)\n",
        "\n",
        "    if torch.cuda.is_available():\n",
        "        device = torch.device(\"cuda\")\n",
        "    else:\n",
        "        device = torch.device(\"cpu\")\n",
        "    # print(device)\n",
        "\n",
        "    model = SentimentNet(vocab, embeddings_dict, output_size, embedding_dim, hidden_dim, n_layers=2, drop_prob=0.2)\n",
        "    model.to(device)\n",
        "\n",
        "    lr=0.0003\n",
        "    criterion = nn.BCELoss()\n",
        "    optimizer = torch.optim.Adam(model.parameters(), lr=lr)\n",
        "    lr_scheduler = torch.optim.lr_scheduler.ReduceLROnPlateau(optimizer, verbose=True)\n",
        "\n",
        "    epochs = 8\n",
        "    counter = 0\n",
        "    print_every = int(0.5 * len(y_train) / batch_size)\n",
        "    clip = 5\n",
        "    # valid_loss_min = np.Inf\n",
        "    valid_loss_min = 0.25\n",
        "    best_model_so_far = None\n",
        "\n",
        "    # Set seed\n",
        "    torch.manual_seed(1)\n",
        "    np.random.seed(0)\n",
        "    model.train()\n",
        "    for i in range(epochs):\n",
        "        h = model.init_hidden(batch_size)\n",
        "        \n",
        "        for inputs, labels in train_loader:\n",
        "            counter += 1\n",
        "            h = tuple([e.data for e in h])\n",
        "            inputs, labels = inputs.to(device), labels.to(device)\n",
        "            model.zero_grad()\n",
        "            output, h = model(inputs, h)\n",
        "            loss = criterion(output.squeeze(), labels.float())\n",
        "            loss.backward()\n",
        "            nn.utils.clip_grad_norm_(model.parameters(), clip)\n",
        "            optimizer.step()\n",
        "            # lr_scheduler.step()\n",
        "            \n",
        "            if counter % print_every == 0:\n",
        "                val_h = model.init_hidden(batch_size)\n",
        "                val_losses = []\n",
        "                model.eval()\n",
        "                for val_input, val_label in val_loader:\n",
        "                    val_h = tuple([each.data for each in val_h])\n",
        "                    val_input, val_label = val_input.to(device), val_label.to(device)\n",
        "                    out, val_h = model(val_input, val_h)\n",
        "                    val_loss = criterion(out.squeeze(), val_label.float())\n",
        "                    val_losses.append(val_loss.item())\n",
        "                    \n",
        "                model.train()\n",
        "                print(\"Epoch: {}/{}...\".format(i+1, epochs),\n",
        "                      \"Step: {}...\".format(counter),\n",
        "                      \"Loss: {:.6f}...\".format(loss.item()),\n",
        "                      \"Val Loss: {:.6f}\".format(np.mean(val_losses)))\n",
        "                if np.mean(val_losses) <= valid_loss_min:\n",
        "                    # torch.save(model.state_dict(), './state_dict.pt')\n",
        "                    best_model_so_far = copy.deepcopy(model)\n",
        "                    print('Validation loss decreased ({:.6f} --> {:.6f}).  Saving model ...'.format(valid_loss_min,np.mean(val_losses)))\n",
        "                    valid_loss_min = np.mean(val_losses)\n",
        "\n",
        "    test_losses = []\n",
        "    h = model.init_hidden(batch_size)\n",
        "    test_inputs = np.array([])\n",
        "    outputs = np.array([])\n",
        "    test_labels = np.array([])\n",
        "\n",
        "    # load the best model which was saved previously\n",
        "    model =  best_model_so_far\n",
        "\n",
        "    model.eval()\n",
        "    with torch.no_grad():\n",
        "        for inputs, labels in test_loader:\n",
        "            h = tuple([each.data for each in h])\n",
        "            inputs, labels = inputs.to(device), labels.to(device)\n",
        "            output, h = model(inputs, h)\n",
        "            test_loss = criterion(output.squeeze(), labels.float())\n",
        "            test_losses.append(test_loss.item())\n",
        "            pred = torch.round(output.squeeze())\n",
        "\n",
        "            if len(test_inputs) == 0:\n",
        "                test_inputs = inputs.cpu().numpy()\n",
        "            else:\n",
        "                test_inputs = np.concatenate([test_inputs, inputs.cpu().numpy()])\n",
        "            outputs = np.concatenate([outputs, pred.cpu().numpy()])\n",
        "            test_labels = np.concatenate([test_labels, labels.cpu().numpy()])\n",
        "        \n",
        "        f1score = f1_score(np.array(test_labels), outputs)\n",
        "        recall = recall_score(np.array(test_labels), outputs)\n",
        "        precision = precision_score(np.array(test_labels), outputs)\n",
        "        accuracy = accuracy_score(np.array(test_labels), outputs)\n",
        "        print(\"##############################################################\")\n",
        "        print(\"Test Statistics:\")\n",
        "        print(f\"Test F1 score: {f1score}\")\n",
        "        print(f\"Test recall: {recall}\")\n",
        "        print(f\"Test precision: {precision}\")\n",
        "        print(f\"Test accuracy: {accuracy}\")\n",
        "        print(\"##############################################################\")\n",
        "        # Print some wrong predictions\n",
        "        for i, input in enumerate(test_inputs[:100]):\n",
        "            if outputs[i] != test_labels[i]:\n",
        "              input_no_pad = input[input != 0]\n",
        "              print(f\"Label: {test_labels[i]}, Prediction: {outputs[i]}\")\n",
        "              print(\" \".join([idx2word[i] for i in input_no_pad]))\n",
        "              print()\n",
        "        return f1score, recall, precision, accuracy\n",
        "# if __name__ == \"__main__\":\n",
        "#     main()\n"
      ],
      "execution_count": null,
      "outputs": [
        {
          "output_type": "stream",
          "text": [
            "[nltk_data] Downloading package punkt to /root/nltk_data...\n",
            "[nltk_data]   Package punkt is already up-to-date!\n"
          ],
          "name": "stdout"
        }
      ]
    },
    {
      "cell_type": "markdown",
      "metadata": {
        "id": "19Wpx-5n3wRj"
      },
      "source": [
        "# Evaluate Model"
      ]
    },
    {
      "cell_type": "code",
      "metadata": {
        "colab": {
          "base_uri": "https://localhost:8080/"
        },
        "id": "W3NrmQJuCbcy",
        "outputId": "3703c540-cc24-44bb-c8a3-1aacdf3b9be8"
      },
      "source": [
        "train_and_evaluate_model(embeddings_dict=twitter_embeddings_dict)\n",
        "train_and_evaluate_model(embeddings_dict=wikipedia_embeddings_dict)"
      ],
      "execution_count": null,
      "outputs": [
        {
          "output_type": "stream",
          "text": [
            "Training input statistics\n",
            "Max tokens:  4948\n",
            "Min tokens:  2\n",
            "Average tokens:  75.06390318054257\n",
            "% of OOV words (not found in embedding):  25.5\n",
            "50 OOV words:  ['_PAD', '_UNKNOWN', '...', '2', '==', '1', '3', 'fucksex', 'yourselfgo', '====', 'buttsecks',\n",
            "'mothjer', '4', '5', '2005', 'contribs', 'pro-assad.hanibal911you', 'sexsex', 'rice=', '2006',\n",
            "\"'fuck\", '2007', '2008', '100', 'npov', 'admin-', 'criminalwar', '10', 'wikiproject', '2004',\n",
            "'marcolfuck', '6', 'penis/////small', '24', '~~~~', '7', 'barnstar', 'tommy2010', 'wikipedians',\n",
            "'2009', 'youbollocks', 'fart.china', 'ancestryfuck-off-jewish', '20', '2010', 'style=', '8',\n",
            "'j.delanoy', 'deleted.this', 'ullmann']\n",
            "##############################################################\n",
            "Epoch: 1/8... Step: 66... Loss: 0.408832... Val Loss: 0.406218\n",
            "Epoch: 1/8... Step: 132... Loss: 0.397059... Val Loss: 0.365559\n",
            "Epoch: 2/8... Step: 198... Loss: 0.296281... Val Loss: 0.294739\n",
            "Epoch: 2/8... Step: 264... Loss: 0.307180... Val Loss: 0.261605\n",
            "Epoch: 3/8... Step: 330... Loss: 0.340721... Val Loss: 0.252084\n",
            "Epoch: 3/8... Step: 396... Loss: 0.251658... Val Loss: 0.223443\n",
            "Validation loss decreased (0.250000 --> 0.223443).  Saving model ...\n",
            "Epoch: 4/8... Step: 462... Loss: 0.289121... Val Loss: 0.215099\n",
            "Validation loss decreased (0.223443 --> 0.215099).  Saving model ...\n",
            "Epoch: 4/8... Step: 528... Loss: 0.208663... Val Loss: 0.214400\n",
            "Validation loss decreased (0.215099 --> 0.214400).  Saving model ...\n",
            "Epoch: 5/8... Step: 594... Loss: 0.205723... Val Loss: 0.200035\n",
            "Validation loss decreased (0.214400 --> 0.200035).  Saving model ...\n",
            "Epoch: 5/8... Step: 660... Loss: 0.247539... Val Loss: 0.199684\n",
            "Validation loss decreased (0.200035 --> 0.199684).  Saving model ...\n",
            "Epoch: 6/8... Step: 726... Loss: 0.217116... Val Loss: 0.205121\n",
            "Epoch: 6/8... Step: 792... Loss: 0.211268... Val Loss: 0.187712\n",
            "Validation loss decreased (0.199684 --> 0.187712).  Saving model ...\n",
            "Epoch: 7/8... Step: 858... Loss: 0.267471... Val Loss: 0.192293\n",
            "Epoch: 7/8... Step: 924... Loss: 0.210235... Val Loss: 0.189768\n",
            "Epoch: 8/8... Step: 990... Loss: 0.179295... Val Loss: 0.183634\n",
            "Validation loss decreased (0.187712 --> 0.183634).  Saving model ...\n",
            "Epoch: 8/8... Step: 1056... Loss: 0.174373... Val Loss: 0.186969\n",
            "##############################################################\n",
            "Test Statistics:\n",
            "Test F1 score: 0.9038332212508408\n",
            "Test recall: 0.8807339449541285\n",
            "Test precision: 0.9281767955801105\n",
            "Test accuracy: 0.93017578125\n",
            "##############################################################\n",
            "Label: 1.0, Prediction: 0.0\n",
            "i guess it 's easy to dish out criticism but you ca n't take it . do n't blame me for the fact that coldplay is a collection of _UNKNOWN music _UNKNOWN , _UNKNOWN by a badly diseased western media . i know what makes for music quality and coldplay is certainly anything but .\n",
            "\n",
            "Label: 1.0, Prediction: 0.0\n",
            "you do not deserve to be alive look over your shoulder from now on\n",
            "\n",
            "Label: 0.0, Prediction: 1.0\n",
            "quit censoring or get _UNKNOWN removing the porn scandal background is against wiki policies . ==\n",
            "\n",
            "Label: 0.0, Prediction: 1.0\n",
            "you are not targeting the players you are targeting the club ! ! ! you wo n't change my mind about it . you just want me to give you attention . goodbye al\n",
            "\n",
            "Label: 1.0, Prediction: 0.0\n",
            "stop with the warnings ill just be back lol lol lol lol lol lol u started it _UNKNOWN\n",
            "\n",
            "Label: 1.0, Prediction: 0.0\n",
            "`` the `` '' _UNKNOWN '' '' had a name . rory fox to be exact . good to see laziness still exists . poor _UNKNOWN what a a _UNKNOWN ''\n",
            "\n",
            "Label: 1.0, Prediction: 0.0\n",
            "i do n't think he 's gay , but he may be in a relationship with a guy . what 's the big deal ?\n",
            "\n",
            "Label: 1.0, Prediction: 0.0\n",
            "`` here 's something for you to report you have more poop in your pants . vandals are people who disrupt wikipedia , like people who get bent out of shape over comments made on talk pages for ip address , rather than focusing on something ... important . they write condescending comments and put images of exclamation points in them and avoid communicating with other people like they 're people , instead they use an impersonal language of _UNKNOWN warnings sent like notices from bill collectors ( who would , hypothetically also have poopie pants ) . you may feel like you 're being very noble by reporting this kind of comments to aiv , and that when someone communicates with you in a way that you 're not _UNKNOWN with or that makes you uncomfortable that it 's `` '' vandalism '' '' and `` '' personal attacks . '' '' but it 's really not , it 's just an emerging bureaucratic culture preventing wikipedia from becoming a true form of social networking and collaboration . anyway , go ahead , go nuts , pick on people different from you and have me banned . just remember\n",
            "\n",
            "Label: 1.0, Prediction: 0.0\n",
            "i 'm sure you eat alot of tube steak\n",
            "\n",
            "Training input statistics\n",
            "Max tokens:  4948\n",
            "Min tokens:  2\n",
            "Average tokens:  75.06390318054257\n",
            "% of OOV words (not found in embedding):  20.8\n",
            "50 OOV words:  ['_PAD', '_UNKNOWN', '==', 'dickhead', '•', 'fucksex', 'yourselfgo', '====', 'cocksucker',\n",
            "'buttsecks', 'mothjer', 'noobs', 'contribs', 'pro-assad.hanibal911you', 'sexsex', 'rice=', \"'fuck\",\n",
            "'npov', 'admin-', 'criminalwar', 'wikiproject', 'marcolfuck', 'wikipedian', 'penis/////small',\n",
            "'~~~~', 'barnstar', 'fack', 'tommy2010', 'cuntbag', 'tildes', 'cocksucking', 'youbollocks',\n",
            "'fart.china', 'ancestryfuck-off-jewish', 'style=', 'j.delanoy', 'deleted.this', 'sockpuppet',\n",
            "'shitfuck', 'notrhbysouthbanof', 'fggt', 'lmao', '..', 'supertr0ll', 'bleachanhero', 'aidsaids',\n",
            "'edgar181', 'bitchmattythewhite', 'fool.what', '\\u200e']\n",
            "##############################################################\n",
            "Epoch: 1/8... Step: 66... Loss: 0.443575... Val Loss: 0.466229\n",
            "Epoch: 1/8... Step: 132... Loss: 0.331970... Val Loss: 0.346610\n",
            "Epoch: 2/8... Step: 198... Loss: 0.322275... Val Loss: 0.327881\n",
            "Epoch: 2/8... Step: 264... Loss: 0.316988... Val Loss: 0.284292\n",
            "Epoch: 3/8... Step: 330... Loss: 0.347168... Val Loss: 0.261952\n",
            "Epoch: 3/8... Step: 396... Loss: 0.284178... Val Loss: 0.254517\n",
            "Epoch: 4/8... Step: 462... Loss: 0.315037... Val Loss: 0.270288\n",
            "Epoch: 4/8... Step: 528... Loss: 0.231323... Val Loss: 0.267962\n",
            "Epoch: 5/8... Step: 594... Loss: 0.219908... Val Loss: 0.228833\n",
            "Validation loss decreased (0.250000 --> 0.228833).  Saving model ...\n",
            "Epoch: 5/8... Step: 660... Loss: 0.265688... Val Loss: 0.234754\n",
            "Epoch: 6/8... Step: 726... Loss: 0.186129... Val Loss: 0.230051\n",
            "Epoch: 6/8... Step: 792... Loss: 0.230990... Val Loss: 0.228712\n",
            "Validation loss decreased (0.228833 --> 0.228712).  Saving model ...\n",
            "Epoch: 7/8... Step: 858... Loss: 0.222003... Val Loss: 0.215524\n",
            "Validation loss decreased (0.228712 --> 0.215524).  Saving model ...\n",
            "Epoch: 7/8... Step: 924... Loss: 0.269796... Val Loss: 0.221136\n",
            "Epoch: 8/8... Step: 990... Loss: 0.217911... Val Loss: 0.205146\n",
            "Validation loss decreased (0.215524 --> 0.205146).  Saving model ...\n",
            "Epoch: 8/8... Step: 1056... Loss: 0.183158... Val Loss: 0.208044\n",
            "##############################################################\n",
            "Test Statistics:\n",
            "Test F1 score: 0.8947368421052632\n",
            "Test recall: 0.8800786369593709\n",
            "Test precision: 0.9098915989159891\n",
            "Test accuracy: 0.9228515625\n",
            "##############################################################\n",
            "Label: 1.0, Prediction: 0.0\n",
            "i guess it 's easy to dish out criticism but you ca n't take it . do n't blame me for the fact that coldplay is a collection of _UNKNOWN music _UNKNOWN , _UNKNOWN by a badly diseased western media . i know what makes for music quality and coldplay is certainly anything but .\n",
            "\n",
            "Label: 1.0, Prediction: 0.0\n",
            "you do not deserve to be alive look over your shoulder from now on\n",
            "\n",
            "Label: 1.0, Prediction: 0.0\n",
            "`` why in the fvck would you give a `` '' love '' '' sign to a _UNKNOWN sockpuppet ? ''\n",
            "\n",
            "Label: 1.0, Prediction: 0.0\n",
            "`` the `` '' _UNKNOWN '' '' had a name . rory fox to be exact . good to see laziness still exists . poor _UNKNOWN what a a _UNKNOWN ''\n",
            "\n",
            "Label: 1.0, Prediction: 0.0\n",
            "i do n't think he 's gay , but he may be in a relationship with a guy . what 's the big deal ?\n",
            "\n",
            "Label: 1.0, Prediction: 0.0\n",
            "`` here 's something for you to report you have more poop in your pants . vandals are people who disrupt wikipedia , like people who get bent out of shape over comments made on talk pages for ip address , rather than focusing on something ... important . they write condescending comments and put images of exclamation points in them and avoid communicating with other people like they 're people , instead they use an impersonal language of _UNKNOWN warnings sent like notices from bill collectors ( who would , hypothetically also have poopie pants ) . you may feel like you 're being very noble by reporting this kind of comments to aiv , and that when someone communicates with you in a way that you 're not _UNKNOWN with or that makes you uncomfortable that it 's `` '' vandalism '' '' and `` '' personal attacks . '' '' but it 's really not , it 's just an emerging bureaucratic culture preventing wikipedia from becoming a true form of social networking and collaboration . anyway , go ahead , go nuts , pick on people different from you and have me banned . just remember\n",
            "\n",
            "Label: 0.0, Prediction: 1.0\n",
            "`` ? ? capitalism . what 's wrong with the _UNKNOWN poop doll in a list of obama presidency _UNKNOWN items ? ( see : `` '' obama poop doll '' '' ) ``\n",
            "\n"
          ],
          "name": "stdout"
        },
        {
          "output_type": "execute_result",
          "data": {
            "text/plain": [
              "(0.8947368421052632, 0.8800786369593709, 0.9098915989159891, 0.9228515625)"
            ]
          },
          "metadata": {
            "tags": []
          },
          "execution_count": 14
        }
      ]
    },
    {
      "cell_type": "markdown",
      "metadata": {
        "id": "u3dDlYa95mbT"
      },
      "source": [
        "# Evaluate Model on Local Data (w Singlish)"
      ]
    },
    {
      "cell_type": "code",
      "metadata": {
        "colab": {
          "base_uri": "https://localhost:8080/"
        },
        "id": "Wb9OrUKM3UiZ",
        "outputId": "f76e8f44-5b5e-4bbe-bb08-b7c96183d48d"
      },
      "source": [
        "url = \"https://raw.githubusercontent.com/calvincxz/CS4248_Project/main/local_data_301.csv\"\n",
        "test_local = pd.read_csv(url)\n",
        "X_test_local = np.array(test_local['Comment'])\n",
        "y_test_local = np.array(test_local['Insult'])\n",
        "train_and_evaluate_model(embeddings_dict=wikipedia_embeddings_dict, X_test_local=X_test_local, y_test_local=y_test_local)\n"
      ],
      "execution_count": null,
      "outputs": [
        {
          "output_type": "stream",
          "text": [
            "300\n",
            "Training input statistics\n",
            "Max tokens:  4948\n",
            "Min tokens:  2\n",
            "Average tokens:  75.06390318054257\n",
            "% of OOV words (not found in embedding):  20.8\n",
            "50 OOV words:  ['_PAD', '_UNKNOWN', '==', 'dickhead', '•', 'fucksex', 'yourselfgo', '====', 'cocksucker',\n",
            "'buttsecks', 'mothjer', 'noobs', 'contribs', 'pro-assad.hanibal911you', 'sexsex', 'rice=', \"'fuck\",\n",
            "'npov', 'admin-', 'criminalwar', 'wikiproject', 'marcolfuck', 'wikipedian', 'penis/////small',\n",
            "'~~~~', 'barnstar', 'fack', 'tommy2010', 'cuntbag', 'tildes', 'cocksucking', 'youbollocks',\n",
            "'fart.china', 'ancestryfuck-off-jewish', 'style=', 'j.delanoy', 'deleted.this', 'sockpuppet',\n",
            "'shitfuck', 'notrhbysouthbanof', 'fggt', 'lmao', '..', 'supertr0ll', 'bleachanhero', 'aidsaids',\n",
            "'edgar181', 'bitchmattythewhite', 'fool.what', '\\u200e']\n",
            "##############################################################\n",
            "Epoch: 1/8... Step: 66... Loss: 0.441901... Val Loss: 0.457461\n",
            "Epoch: 1/8... Step: 132... Loss: 0.317558... Val Loss: 0.345733\n",
            "Epoch: 2/8... Step: 198... Loss: 0.315951... Val Loss: 0.330948\n",
            "Epoch: 2/8... Step: 264... Loss: 0.326723... Val Loss: 0.312847\n",
            "Epoch: 3/8... Step: 330... Loss: 0.323169... Val Loss: 0.258992\n",
            "Epoch: 3/8... Step: 396... Loss: 0.260505... Val Loss: 0.248417\n",
            "Validation loss decreased (0.250000 --> 0.248417).  Saving model ...\n",
            "Epoch: 4/8... Step: 462... Loss: 0.324363... Val Loss: 0.236456\n",
            "Validation loss decreased (0.248417 --> 0.236456).  Saving model ...\n",
            "Epoch: 4/8... Step: 528... Loss: 0.236533... Val Loss: 0.254139\n",
            "Epoch: 5/8... Step: 594... Loss: 0.224407... Val Loss: 0.227129\n",
            "Validation loss decreased (0.236456 --> 0.227129).  Saving model ...\n",
            "Epoch: 5/8... Step: 660... Loss: 0.259452... Val Loss: 0.227237\n",
            "Epoch: 6/8... Step: 726... Loss: 0.178283... Val Loss: 0.220751\n",
            "Validation loss decreased (0.227129 --> 0.220751).  Saving model ...\n",
            "Epoch: 6/8... Step: 792... Loss: 0.246706... Val Loss: 0.247145\n",
            "Epoch: 7/8... Step: 858... Loss: 0.224053... Val Loss: 0.212492\n",
            "Validation loss decreased (0.220751 --> 0.212492).  Saving model ...\n",
            "Epoch: 7/8... Step: 924... Loss: 0.250887... Val Loss: 0.214499\n",
            "Epoch: 8/8... Step: 990... Loss: 0.220983... Val Loss: 0.220673\n",
            "Epoch: 8/8... Step: 1056... Loss: 0.213137... Val Loss: 0.206493\n",
            "Validation loss decreased (0.212492 --> 0.206493).  Saving model ...\n",
            "##############################################################\n",
            "Test Statistics:\n",
            "Test F1 score: 0.6666666666666667\n",
            "Test recall: 0.6869565217391305\n",
            "Test precision: 0.6475409836065574\n",
            "Test accuracy: 0.69140625\n",
            "##############################################################\n",
            "Label: 0.0, Prediction: 1.0\n",
            "delivery fees is already a killer\n",
            "\n",
            "Label: 0.0, Prediction: 1.0\n",
            "still got room not bad _UNKNOWN la : ( ( 14 days to change for future life.. jia you ah ! ! !\n",
            "\n",
            "Label: 1.0, Prediction: 0.0\n",
            "free money for them if you don ’ t wear mask and had an attitude like a _UNKNOWN during _UNKNOWN measures\n",
            "\n",
            "Label: 0.0, Prediction: 1.0\n",
            "the problem with ppl .. have so much money until become so stupid ... good luck\n",
            "\n",
            "Label: 0.0, Prediction: 1.0\n",
            "zero hope . the monkeys will just go extinct with the _UNKNOWN population plan .\n",
            "\n",
            "Label: 1.0, Prediction: 0.0\n",
            "you this _UNKNOWN fker still talk about _UNKNOWN when everybody else is emphasising internal transfer ft. how low can you go ?\n",
            "\n",
            "Label: 1.0, Prediction: 0.0\n",
            "_UNKNOWN lang using _UNKNOWN wifi typing nonsense again..\n",
            "\n",
            "Label: 1.0, Prediction: 0.0\n",
            "give chance _UNKNOWN . he has nothing else going on in his life _UNKNOWN .\n",
            "\n",
            "Label: 0.0, Prediction: 1.0\n",
            "shameless _UNKNOWN . first , their _UNKNOWN has caused the foreign workers to be infected . now talk so big . foreign workers should have been provided adequate protection and facilities . why were they exposed to undue risk . _UNKNOWN are totally irresponsible .\n",
            "\n",
            "Label: 0.0, Prediction: 1.0\n",
            "wow you guys are missing the big picture . all these comments here are so toxic and self entitled . truly third world citizens\n",
            "\n",
            "Label: 0.0, Prediction: 1.0\n",
            "if you want to be a vigilante , then go join the police . why are people so nasty .\n",
            "\n",
            "Label: 1.0, Prediction: 0.0\n",
            "stay positive . hiv positive .\n",
            "\n",
            "Label: 1.0, Prediction: 0.0\n",
            "they better don ’ t breed\n",
            "\n",
            "Label: 0.0, Prediction: 1.0\n",
            "there are many social truths , u know i know can _UNKNOWN . no need to articulate it clearly and make everybody unhappy .\n",
            "\n",
            "Label: 0.0, Prediction: 1.0\n",
            "`` smoke helps kill virus `` then everyone from now on must smoke to kill _UNKNOWN virus .\n",
            "\n",
            "Label: 0.0, Prediction: 1.0\n",
            "you come here i pay you 600 u bend over so i can shove a broom up ur arse : x\n",
            "\n",
            "Label: 0.0, Prediction: 1.0\n",
            "damn yo we still got posts going on about this height thing ...\n",
            "\n",
            "Label: 0.0, Prediction: 1.0\n",
            "_UNKNOWN are a bunch of whiners\n",
            "\n",
            "Label: 1.0, Prediction: 0.0\n",
            "hence , may i appeal for all of you to stay in singapore , and avoid bringing back _UNKNOWN back into singapore upon your return ? this is for the sake of every _UNKNOWN , pr , and foreigner who responsibly chose to remain in singapore .\n",
            "\n",
            "Label: 1.0, Prediction: 0.0\n",
            "all these “ precious princesses “ _UNKNOWN schooled from young to think like that . should just get _UNKNOWN and dumped and move on .\n",
            "\n",
            "Label: 0.0, Prediction: 1.0\n",
            "what 's with ladies and their obsession over bags anyway ?\n",
            "\n",
            "Label: 1.0, Prediction: 0.0\n",
            "coach red pill mentioned that women look at men and divide them into general 80 % of the men ( who got no chance in dating them ) and the top 20 % of men ( in terms of wealth , looks and fame ) . good to see these top 20 % men fall .\n",
            "\n",
            "Label: 1.0, Prediction: 0.0\n",
            "_UNKNOWN , erection still retain power . you guys really can not make it\n",
            "\n",
            "Label: 1.0, Prediction: 0.0\n",
            "if you just go _UNKNOWN _UNKNOWN ' you 'll make more sense you know\n",
            "\n",
            "Label: 1.0, Prediction: 0.0\n",
            "can she just _UNKNOWN _UNKNOWN . already shortage of mask and people are helping sg . really _UNKNOWN .\n",
            "\n",
            "Label: 0.0, Prediction: 1.0\n",
            "dun need to marry or court sg girls _UNKNOWN only . the world is so big ! sg only little red dot . _UNKNOWN .\n",
            "\n",
            "Label: 1.0, Prediction: 0.0\n",
            "do us a favour take a long walk on a short pier bye you will not be missed\n",
            "\n",
            "Label: 1.0, Prediction: 0.0\n",
            "because they always tend to go for the `` exotic looking '' ones ( read - ugly ) , with extremely small eyes or exaggerated asian features . most asian guys wo n't even find them attractive anyway !\n",
            "\n",
            "Label: 0.0, Prediction: 1.0\n",
            "do n't waste time with all these idiot , let them go and fly kite .\n",
            "\n",
            "Label: 1.0, Prediction: 0.0\n",
            "women have no loyalty , women wont love you like your mother , dont put women on the _UNKNOWN dont put her number 1 , they dont care how much money you spent on her before and they will leave when there is no more benefit ( unless they have no other choice ) below video will wake you up\n",
            "\n",
            "Label: 1.0, Prediction: 0.0\n",
            "just nuke _UNKNOWN do it good . do n't be like japan so greedy ... just make sure all chinese in china back then was killed especially the leaders of that era ... no such problem will we have today .\n",
            "\n",
            "Label: 0.0, Prediction: 1.0\n",
            "this donkey trump has blood in his hands\n",
            "\n"
          ],
          "name": "stdout"
        },
        {
          "output_type": "execute_result",
          "data": {
            "text/plain": [
              "(0.6666666666666667, 0.6869565217391305, 0.6475409836065574, 0.69140625)"
            ]
          },
          "metadata": {
            "tags": []
          },
          "execution_count": 18
        }
      ]
    },
    {
      "cell_type": "markdown",
      "metadata": {
        "id": "zswsuw35uV1Q"
      },
      "source": [
        "# Train Logistic Regression"
      ]
    },
    {
      "cell_type": "code",
      "metadata": {
        "colab": {
          "base_uri": "https://localhost:8080/"
        },
        "id": "e7XqXLaruOzh",
        "outputId": "0070b795-51a6-4c81-82d9-8e8d0a70f043"
      },
      "source": [
        "import pandas as pd\n",
        "import numpy as np\n",
        "from sklearn.model_selection import train_test_split\n",
        "from sklearn.linear_model import LogisticRegression\n",
        "from scipy.sparse import csr_matrix\n",
        "from sklearn.metrics import f1_score, accuracy_score, recall_score, precision_score\n",
        "from sklearn.feature_extraction.text import TfidfVectorizer\n",
        "\n",
        "import torch\n",
        "from torch.utils.data import TensorDataset, DataLoader\n",
        "import torch.nn as nn\n",
        "\n",
        "import math\n",
        "from collections import Counter\n",
        "import nltk\n",
        "nltk.download('punkt')\n",
        "from nltk import word_tokenize  \n",
        "\n",
        "\n",
        "def main():\n",
        "    url = \"https://raw.githubusercontent.com/calvincxz/CS4248_Project/main/train2.csv\"\n",
        "    train = pd.read_csv(url)\n",
        "    X = np.array(train['comment_text'])\n",
        "    y = np.array(train['toxic_label'])\n",
        "\n",
        "    size = 10000\n",
        "    X = X[:size]\n",
        "    y = y[:size]\n",
        "\n",
        "    X_train, X_val, y_train, y_val = train_test_split(X, y, test_size=0.2, random_state=0)\n",
        "    X_test, X_val, y_test, y_val = train_test_split(X_val, y_val, test_size=0.5, random_state=0)\n",
        "\n",
        "    model = LogisticRegression(random_state=0, solver='sag', max_iter=200)\n",
        "    vectorizer = TfidfVectorizer()\n",
        "    X_train_tf_idf_matrix = vectorizer.fit_transform(X_train)\n",
        "    model.fit( X_train_tf_idf_matrix, y_train)\n",
        "\n",
        "    # test your model\n",
        "    vectorizer_val = TfidfVectorizer(vocabulary=vectorizer.get_feature_names())\n",
        "    # vectorizer_val = TfidfVectorizer(vocabulary=vocab)\n",
        "    X_val_tf_idf_matrix = vectorizer_val.fit_transform(X_val)\n",
        "\n",
        "    y_pred = model.predict(X_val_tf_idf_matrix)\n",
        "    score = f1_score(y_val, y_pred, average='macro')\n",
        "    acc = accuracy_score(y_val, y_pred)\n",
        "    print('F1 score on validation = {}'.format(score))\n",
        "    print('accuracy = {}'.format(acc))\n",
        " \n",
        "if __name__ == \"__main__\":\n",
        "    main()\n"
      ],
      "execution_count": null,
      "outputs": [
        {
          "output_type": "stream",
          "text": [
            "[nltk_data] Downloading package punkt to /root/nltk_data...\n",
            "[nltk_data]   Unzipping tokenizers/punkt.zip.\n",
            "F1 score on validation = 0.7162126068376068\n",
            "accuracy = 0.932\n"
          ],
          "name": "stdout"
        }
      ]
    }
  ]
}